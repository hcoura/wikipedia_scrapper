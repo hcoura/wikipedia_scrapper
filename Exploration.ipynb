{
 "cells": [
  {
   "cell_type": "code",
   "execution_count": 1,
   "metadata": {
    "collapsed": true
   },
   "outputs": [],
   "source": [
    "import lxml.html as parser\n",
    "import requests\n",
    "import csv\n",
    "from urllib.parse import urljoin"
   ]
  },
  {
   "cell_type": "code",
   "execution_count": 2,
   "metadata": {
    "collapsed": true
   },
   "outputs": [],
   "source": [
    "r = requests.get(\"https://pt.wikipedia.org/wiki/Clube_Atl%C3%A9tico_Mineiro\")\n",
    "html = parser.fromstring(r.text)"
   ]
  },
  {
   "cell_type": "markdown",
   "metadata": {},
   "source": [
    "## Related Links\n",
    "\n",
    "We start by finding all the page related links that are from wikipedia and nothing else.\n",
    "\n",
    "Preliminar investigations show:\n",
    "1. Links are relative\n",
    "2. Links start with /wiki/{Some other article}\n",
    "3. All related links are within a div with id=bodyContent\n",
    "4. There are no semicolon in the links (like this bad link '/wiki/Ficheiro:Atletico_mineiro_galo.png')\n",
    "\n",
    "With that in mind we may start building our xpath expression"
   ]
  },
  {
   "cell_type": "code",
   "execution_count": 8,
   "metadata": {},
   "outputs": [
    {
     "name": "stdout",
     "output_type": "stream",
     "text": [
      "#mw-head\n",
      "3362\n"
     ]
    }
   ],
   "source": [
    "# let's get all links inside this div\n",
    "\n",
    "links = html.xpath('//div[@id=\"bodyContent\"]/descendant::a/@href')\n",
    "print(links[0])\n",
    "print(len(links))"
   ]
  },
  {
   "cell_type": "markdown",
   "metadata": {},
   "source": [
    "So we have 3362 links in this page within bodyContent\n",
    "\n",
    "Let's now improve the xpath expression with some regex to filter links that do not start with /wiki/ and have semicolons in them."
   ]
  },
  {
   "cell_type": "code",
   "execution_count": 36,
   "metadata": {},
   "outputs": [
    {
     "name": "stdout",
     "output_type": "stream",
     "text": [
      "2316\n"
     ]
    }
   ],
   "source": [
    "articles = html.xpath('//div[@id=\"bodyContent\"]/descendant::a[re:test(@href, \"^/wiki/[^:]*$\")]/@href', \n",
    "        namespaces={\"re\": \"http://exslt.org/regular-expressions\"})\n",
    "print(len(articles))"
   ]
  },
  {
   "cell_type": "markdown",
   "metadata": {},
   "source": [
    "Now we just need to prepare these links and get rid of duplicates"
   ]
  },
  {
   "cell_type": "code",
   "execution_count": 41,
   "metadata": {},
   "outputs": [
    {
     "name": "stdout",
     "output_type": "stream",
     "text": [
      "1205\n",
      "https://pt.wikipedia.org/wiki/Zamora_F%C3%BAtbol_Club\n"
     ]
    }
   ],
   "source": [
    "base_url = \"https://pt.wikipedia.org/\"\n",
    "articles = [urljoin(base_url, a) for a in articles]\n",
    "articles = list(set(articles))\n",
    "print(len(articles))\n",
    "print(articles[0])"
   ]
  },
  {
   "cell_type": "markdown",
   "metadata": {},
   "source": [
    "## Item extraction\n",
    "\n",
    "We must extract a few things from each page, the title, the first paragraph and the main image.\n",
    "By inspecting the page we have that:\n",
    "\n",
    "1. The title is at a h1 tag with id=firstHeading\n",
    "2. First paragraph is the first p inside a div with class mw-parser-output\n",
    "3. The main image is the first image inside the table inside the div with class mw-parser-output"
   ]
  },
  {
   "cell_type": "code",
   "execution_count": 43,
   "metadata": {},
   "outputs": [
    {
     "name": "stdout",
     "output_type": "stream",
     "text": [
      "Clube Atlético Mineiro\n"
     ]
    }
   ],
   "source": [
    "title = html.xpath('//h1[@id=\"firstHeading\"]/text()')[0]\n",
    "print(title)"
   ]
  },
  {
   "cell_type": "code",
   "execution_count": 48,
   "metadata": {},
   "outputs": [
    {
     "name": "stdout",
     "output_type": "stream",
     "text": [
      "['O ', 'Clube Atlético Mineiro', ' (conhecido apenas por ', 'Atlético', ' e cujo ', 'acrônimo', ' é ', 'CAM', ') é um clube brasileiro de futebol sediado na cidade de ', 'Belo Horizonte', ', ', 'Minas Gerais', '.', '[', '4', ']', ' Fundado em 25 de março de 1908 por um grupo de estudantes, tem como suas cores tradicionais o preto e o branco. Contudo, o clube teve como primeiro nome ', 'Athlético Mineiro Football Club', ' .', '[', '5', ']', ' Seu símbolo e alcunha mais popular é o Galo, mascote oficial no final da década de 1930.', '[', '6', ']', '[', '7', ']', ' O Atlético é um dos ', 'clubes mais populares do Brasil', '.', '[', '8', ']', '[', '9', ']']\n"
     ]
    }
   ],
   "source": [
    "paragraph = html.xpath('//div[@class=\"mw-parser-output\"]/p[1]/descendant-or-self::*/text()')\n",
    "print(paragraph)"
   ]
  },
  {
   "cell_type": "code",
   "execution_count": 49,
   "metadata": {},
   "outputs": [
    {
     "name": "stdout",
     "output_type": "stream",
     "text": [
      "O Clube Atlético Mineiro (conhecido apenas por Atlético e cujo acrônimo é CAM) é um clube brasileiro de futebol sediado na cidade de Belo Horizonte, Minas Gerais.[4] Fundado em 25 de março de 1908 por um grupo de estudantes, tem como suas cores tradicionais o preto e o branco. Contudo, o clube teve como primeiro nome Athlético Mineiro Football Club .[5] Seu símbolo e alcunha mais popular é o Galo, mascote oficial no final da década de 1930.[6][7] O Atlético é um dos clubes mais populares do Brasil.[8][9]\n"
     ]
    }
   ],
   "source": [
    "# We need to join the result\n",
    "paragraph = \"\".join(html.xpath('//div[@class=\"mw-parser-output\"]/p[1]/descendant-or-self::*/text()'))\n",
    "print(paragraph)"
   ]
  },
  {
   "cell_type": "code",
   "execution_count": 56,
   "metadata": {},
   "outputs": [
    {
     "name": "stdout",
     "output_type": "stream",
     "text": [
      "O Clube Atlético Mineiro (conhecido apenas por Atlético e cujo acrônimo é CAM) é um clube brasileiro de futebol sediado na cidade de Belo Horizonte, Minas Gerais. Fundado em 25 de março de 1908 por um grupo de estudantes, tem como suas cores tradicionais o preto e o branco. Contudo, o clube teve como primeiro nome  . Seu símbolo e alcunha mais popular é o Galo, mascote oficial no final da década de 1930. O Atlético é um dos clubes mais populares do Brasil.\n"
     ]
    }
   ],
   "source": [
    "# Better but we don't want the citations\n",
    "paragraph = \"\".join(html.xpath('//div[@class=\"mw-parser-output\"]/p[1]/' \\\n",
    "                               'descendant-or-self::*[self::a[not(starts-with(@href, \"#cite\"))] ' \\\n",
    "                               'or self::b or self::p]/text()'))\n",
    "print(paragraph)"
   ]
  },
  {
   "cell_type": "markdown",
   "metadata": {},
   "source": [
    "Here we are selecting all the children that are either the paragraph it self, a b tag or a anchor that it's href do not start with #cite(the citations)"
   ]
  },
  {
   "cell_type": "code",
   "execution_count": 63,
   "metadata": {},
   "outputs": [
    {
     "name": "stdout",
     "output_type": "stream",
     "text": [
      "//upload.wikimedia.org/wikipedia/commons/thumb/5/5f/Atletico_mineiro_galo.png/120px-Atletico_mineiro_galo.png\n"
     ]
    }
   ],
   "source": [
    "image = html.xpath('//div[@class=\"mw-parser-output\"]/table/descendant::img/@src')[0]\n",
    "print(image)"
   ]
  }
 ],
 "metadata": {
  "kernelspec": {
   "display_name": "Python 3",
   "language": "python",
   "name": "python3"
  },
  "language_info": {
   "codemirror_mode": {
    "name": "ipython",
    "version": 3
   },
   "file_extension": ".py",
   "mimetype": "text/x-python",
   "name": "python",
   "nbconvert_exporter": "python",
   "pygments_lexer": "ipython3",
   "version": "3.6.1"
  }
 },
 "nbformat": 4,
 "nbformat_minor": 2
}
